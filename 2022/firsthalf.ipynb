{
 "cells": [
  {
   "cell_type": "code",
   "execution_count": null,
   "metadata": {},
   "outputs": [],
   "source": [
    "print(\"hey, does this work?\")"
   ]
  },
  {
   "cell_type": "markdown",
   "metadata": {},
   "source": [
    "Day 1"
   ]
  },
  {
   "cell_type": "code",
   "execution_count": null,
   "metadata": {},
   "outputs": [],
   "source": [
    "d1_test = \"\"\"1000\n",
    "2000\n",
    "3000\n",
    "\n",
    "4000\n",
    "\n",
    "5000\n",
    "6000\n",
    "\n",
    "7000\n",
    "8000\n",
    "9000\n",
    "\n",
    "10000\"\"\"\n",
    "d1_data = \n"
   ]
  },
  {
   "cell_type": "code",
   "execution_count": null,
   "metadata": {},
   "outputs": [],
   "source": [
    "def d1p1(x):\n",
    "    elf_sums = []\n",
    "    for elf in x.split(\"\\n\\n\"):\n",
    "        elf_sums.append(sum([int(x) for x in elf.splitlines()]))\n",
    "    print(max(elf_sums))\n"
   ]
  },
  {
   "cell_type": "markdown",
   "metadata": {},
   "source": [
    "Day 7"
   ]
  },
  {
   "cell_type": "code",
   "execution_count": null,
   "metadata": {},
   "outputs": [],
   "source": [
    "d6_test = \"\"\"$ cd /\n",
    "$ ls\n",
    "dir a\n",
    "14848514 b.txt\n",
    "8504156 c.dat\n",
    "dir d\n",
    "$ cd a\n",
    "$ ls\n",
    "dir e\n",
    "29116 f\n",
    "2557 g\n",
    "62596 h.lst\n",
    "$ cd e\n",
    "$ ls\n",
    "584 i\n",
    "$ cd ..\n",
    "$ cd ..\n",
    "$ cd d\n",
    "$ ls\n",
    "4060174 j\n",
    "8033020 d.log\n",
    "5626152 d.ext\n",
    "7214296 k\"\"\""
   ]
  },
  {
   "cell_type": "code",
   "execution_count": null,
   "metadata": {},
   "outputs": [],
   "source": [
    "from collections import defaultdict\n",
    "from pathlib import PurePosixPath\n",
    "class compute:\n",
    "    # dictionary of directories (name - key, value - set of subdirs, \n",
    "    # position o is size)\n",
    "    def __init__(self):\n",
    "        self.dir_dict = {}\n",
    "        self.cur_dir = PurePosixPath()\n",
    "        self.com_dict = {\n",
    "            \"cd\" : self.cd,\n",
    "            \"ls\" : self.ls\n",
    "        }\n",
    "    def ls(self, args):\n",
    "        pass\n",
    "    def cd(self, args):\n",
    "        if args[1] == \"..\":\n",
    "            self.cur_dir = self.cur_dir.parent \n",
    "        self.cur_dir = self.cur_dir / args[1]\n",
    "\n",
    "        self.cur_dir = self.cur_dir + args[1]\n",
    "    def command(self, args):\n",
    "        return self.com_dict[args[0]](args)\n",
    "    def add_file(self, filesize):\n",
    "        self.dir_dict[self.cur_dir][0] += filesize\n",
    "    def add_dir(self, dirname):\n",
    "        self.dir_dict[self.cur_dir][1].\n",
    "        \n",
    "\n",
    "def d7p1(x):\n",
    "    cur = compute()\n",
    "    for line in x:\n",
    "        if line[0] == \"$\":\n",
    "            cur.command(line.split()[1:])\n",
    "        elif line[0] == \"d\":\n",
    "            # is there anything I want to do when finding a dir\n",
    "            pass\n",
    "        else:\n",
    "            cur.add_file(int(line.split()[0]))\n"
   ]
  }
 ],
 "metadata": {
  "kernelspec": {
   "display_name": "Python 3.9.6 64-bit",
   "language": "python",
   "name": "python3"
  },
  "language_info": {
   "name": "python",
   "version": "3.9.6"
  },
  "orig_nbformat": 4,
  "vscode": {
   "interpreter": {
    "hash": "31f2aee4e71d21fbe5cf8b01ff0e069b9275f58929596ceb00d14d90e3e16cd6"
   }
  }
 },
 "nbformat": 4,
 "nbformat_minor": 2
}
